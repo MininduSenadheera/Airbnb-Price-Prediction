{
 "cells": [
  {
   "cell_type": "markdown",
   "metadata": {},
   "source": [
    "## Imports"
   ]
  },
  {
   "cell_type": "code",
   "execution_count": null,
   "metadata": {},
   "outputs": [],
   "source": [
    "import numpy as np\n",
    "import pandas as pd\n",
    "from sklearn.preprocessing import LabelEncoder\n",
    "\n",
    "dataset = pd.read_csv(\"../Dataset/listings.csv\")\n",
    "dataset"
   ]
  },
  {
   "cell_type": "markdown",
   "metadata": {},
   "source": [
    "## Remove unwanted columns"
   ]
  },
  {
   "cell_type": "code",
   "execution_count": null,
   "metadata": {},
   "outputs": [],
   "source": [
    "# remove duplicates\n",
    "dataset.drop_duplicates(inplace=True)"
   ]
  },
  {
   "cell_type": "code",
   "execution_count": null,
   "metadata": {},
   "outputs": [],
   "source": [
    "columns_to_drop = ['id','listing_url', 'scrape_id', 'last_scraped', 'name', 'summary','space', 'description', 'experiences_offered','neighborhood_overview','notes', 'transit', 'access', 'interaction', 'house_rules','thumbnail_url', 'medium_url', 'picture_url', 'xl_picture_url','host_id', 'host_url', 'host_name', 'host_since', 'host_location','host_about', 'host_response_time', 'host_response_rate','host_acceptance_rate', 'host_is_superhost', 'host_thumbnail_url','host_picture_url', 'host_neighbourhood', 'host_listings_count','host_total_listings_count', 'host_verifications','host_has_profile_pic', 'host_identity_verified', 'street', 'neighbourhood_cleansed','neighbourhood_group_cleansed','country','country_code','is_location_exact','latitude','longitude','city','state','zipcode','market','smart_location','weekly_price', 'monthly_price', 'security_deposit','cleaning_fee', 'guests_included', 'extra_people', 'minimum_nights','maximum_nights', 'calendar_updated', 'has_availability','availability_30', 'availability_60', 'availability_90', 'calendar_last_scraped', 'number_of_reviews','first_review', 'last_review','review_scores_accuracy', 'review_scores_cleanliness','review_scores_checkin', 'review_scores_communication','review_scores_location', 'review_scores_value', 'requires_license','license', 'jurisdiction_names', 'instant_bookable', 'require_guest_profile_picture','require_guest_phone_verification', 'calculated_host_listings_count','reviews_per_month','review_scores_rating','amenities'] \n",
    "\n",
    "dataset.drop(columns_to_drop, axis = 1, inplace = True)\n",
    "dataset"
   ]
  },
  {
   "cell_type": "markdown",
   "metadata": {},
   "source": [
    "## Handling null values"
   ]
  },
  {
   "cell_type": "code",
   "execution_count": null,
   "metadata": {},
   "outputs": [],
   "source": [
    "# no.of null values before handling null values\n",
    "dataset.isnull().sum()"
   ]
  },
  {
   "cell_type": "code",
   "execution_count": null,
   "metadata": {},
   "outputs": [],
   "source": [
    "# drop square_feet column\n",
    "dataset.drop(['square_feet'],axis=1, inplace=True)\n",
    "\n",
    "# replace the NaN with 0\n",
    "dataset['bathrooms'].fillna(0, inplace=True)\n",
    "dataset['bedrooms'].fillna(0, inplace=True)\n",
    "dataset['beds'].fillna(0, inplace=True)\n",
    "\n",
    "# replace the NaN with string Unknown\n",
    "dataset['property_type'].fillna('Other', inplace=True)\n",
    "\n",
    "# removing rows having null values\n",
    "dataset = dataset[dataset['neighbourhood'].notna()]\n",
    "\n",
    "dataset"
   ]
  },
  {
   "cell_type": "code",
   "execution_count": null,
   "metadata": {},
   "outputs": [],
   "source": [
    "# no.of null values after handling null values\n",
    "dataset.isnull().sum()"
   ]
  },
  {
   "cell_type": "markdown",
   "metadata": {},
   "source": [
    "## Processing the price column"
   ]
  },
  {
   "cell_type": "code",
   "execution_count": null,
   "metadata": {},
   "outputs": [],
   "source": [
    "def removeDollar(price):\n",
    "    # remove $ and comma from price, ignore na values so that we wont get any errors.\n",
    "    return str(price).replace('$','').replace(',','')\n",
    "    \n",
    "# applying function to column\n",
    "dataset['price'] = dataset['price'].apply(removeDollar)\n",
    "# make float as the data type of column\n",
    "dataset['price'] = dataset['price'].astype(float)\n",
    "dataset"
   ]
  },
  {
   "cell_type": "markdown",
   "metadata": {},
   "source": [
    "## Convert Categorical data to numeric"
   ]
  },
  {
   "cell_type": "code",
   "execution_count": null,
   "metadata": {},
   "outputs": [],
   "source": [
    "def convertToNumeric(dataset):\n",
    "    le = LabelEncoder()\n",
    "\n",
    "    dataset['neighbourhood'] = le.fit_transform(dataset['neighbourhood'])\n",
    "    dataset['property_type'] = le.fit_transform(dataset['property_type'])\n",
    "    dataset['room_type'] = le.fit_transform(dataset['room_type'])\n",
    "    dataset['bed_type'] = le.fit_transform(dataset['bed_type'])\n",
    "    dataset['cancellation_policy'] = le.fit_transform(dataset['cancellation_policy'])\n",
    "    return dataset\n",
    "\n",
    "dataset = convertToNumeric(dataset)\n",
    "dataset"
   ]
  },
  {
   "cell_type": "code",
   "execution_count": null,
   "metadata": {},
   "outputs": [],
   "source": [
    "# move price column to end\n",
    "column_to_move = dataset.pop(\"price\")\n",
    "dataset.insert(10, \"price\", column_to_move )\n",
    "dataset"
   ]
  },
  {
   "cell_type": "markdown",
   "metadata": {},
   "source": [
    "## Exporting the cleaned dataset"
   ]
  },
  {
   "cell_type": "code",
   "execution_count": null,
   "metadata": {},
   "outputs": [],
   "source": [
    "dataset.to_csv(\"listings_cleaned.csv\", index = False)"
   ]
  }
 ],
 "metadata": {
  "kernelspec": {
   "display_name": "Python 3.10.6 64-bit",
   "language": "python",
   "name": "python3"
  },
  "language_info": {
   "codemirror_mode": {
    "name": "ipython",
    "version": 3
   },
   "file_extension": ".py",
   "mimetype": "text/x-python",
   "name": "python",
   "nbconvert_exporter": "python",
   "pygments_lexer": "ipython3",
   "version": "3.10.6"
  },
  "orig_nbformat": 4,
  "vscode": {
   "interpreter": {
    "hash": "aee8b7b246df8f9039afb4144a1f6fd8d2ca17a180786b69acc140d282b71a49"
   }
  }
 },
 "nbformat": 4,
 "nbformat_minor": 2
}
